{
 "cells": [
  {
   "cell_type": "code",
   "execution_count": 2,
   "metadata": {},
   "outputs": [],
   "source": [
    "import numpy as np\n",
    "import matplotlib.pyplot as plt\n",
    "import matplotlib\n",
    "matplotlib.rcParams.update({'font.size': 18})"
   ]
  },
  {
   "cell_type": "markdown",
   "metadata": {},
   "source": [
    "### Part - a"
   ]
  },
  {
   "cell_type": "markdown",
   "metadata": {},
   "source": [
    "The general expression of paraboloid (assuming circular symmetry) can be easily modeled as follows\n",
    "Ideally z = a(x^2+y^2) where the center is at origin, but this might not be the case always, rather we will have some offset of (x0,y0,z0).\n",
    "So, $z-z0 = a((x-x0)^2+(y-y0)^2)$\n",
    "\n",
    "Then \n",
    "$$z - z0 = a(x^2 + y+^2 - 2x0*x - 2y0*y + (x0^2 + y0^2))$$ \n",
    "Defining - \n",
    "$$r^2 = x^2 + y^2$$\n",
    "$$z = (z0 + a(x0^2 + y0^2)) - 2ax0*x - 2ay0*y + ar^2$$ \n",
    "for R = r^2, we can define z in terms of linear parameters\n",
    "\n",
    "Finally:\n",
    "***\n",
    "$$z = (z0 + a(x0^2 + y0^2)) - 2ax0*x - 2ay0*y + aR$$\n",
    "***"
   ]
  },
  {
   "cell_type": "markdown",
   "metadata": {},
   "source": [
    "Starting of with reading from data-file and structuring data in easily usable form:"
   ]
  },
  {
   "cell_type": "code",
   "execution_count": 3,
   "metadata": {},
   "outputs": [],
   "source": [
    "f = open('dish_zenith.txt','r')\n",
    "xyz = []\n",
    "for t in f:\n",
    "\tt = np.asarray(t.strip().split(), dtype = 'float')\n",
    "\txyz.append(t)\n",
    "f.close()\t\n",
    "\n",
    "xyz = np.asarray(xyz)\t\n",
    "x = xyz[:,0]\n",
    "y = xyz[:,1]\n",
    "z = xyz[:,2]\n",
    "R = x**2+y**2"
   ]
  },
  {
   "cell_type": "markdown",
   "metadata": {},
   "source": [
    "Defining the coefficient matrix, A and calculating the coefficients:"
   ]
  },
  {
   "cell_type": "code",
   "execution_count": 4,
   "metadata": {},
   "outputs": [],
   "source": [
    "A = np.transpose([np.ones(len(z)),x,y,R])"
   ]
  },
  {
   "cell_type": "markdown",
   "metadata": {},
   "source": [
    "The form we are aiming for here is z = A@c, where\n",
    "\n",
    "$$c[0] = z0 + a(x0^2 + y0^2)$$\n",
    "$$c[1] = -2ax0$$\n",
    "$$c[2] = -2ay0$$\n",
    "$$c[3] = a$$"
   ]
  },
  {
   "cell_type": "markdown",
   "metadata": {},
   "source": [
    "### Part - b (best-fit parameters)"
   ]
  },
  {
   "cell_type": "code",
   "execution_count": 5,
   "metadata": {},
   "outputs": [
    {
     "name": "stdout",
     "output_type": "stream",
     "text": [
      "\n",
      "Best fit parameters:\n",
      "{x0,y0,z0,a} =  [-1.3604886221977073, 58.22147608157965, -1512.8772100367876, 0.00016670445477401328]\n"
     ]
    }
   ],
   "source": [
    "# Performing the fit\n",
    "coeff = np.linalg.lstsq(A,z,rcond=None)[0]\n",
    "# Comparing with our above definintion of the parameters\n",
    "a = coeff[3]\n",
    "y0 = -0.5*coeff[2]/a\n",
    "x0 = -0.5*coeff[1]/a\n",
    "z0 = coeff[0] - a*(x0**2+y0**2)\n",
    "\n",
    "f = 1/(4*a)\n",
    "par = [x0,y0,z0,a]\n",
    "print('\\nBest fit parameters:')\n",
    "print('{x0,y0,z0,a} = ',par)"
   ]
  },
  {
   "cell_type": "markdown",
   "metadata": {},
   "source": [
    "***\n",
    "### Part - c"
   ]
  },
  {
   "cell_type": "markdown",
   "metadata": {},
   "source": [
    "Simple method to quantify the error/noise I employ here is to calculate the the error in the data, i.e. the standard deviation in z"
   ]
  },
  {
   "cell_type": "code",
   "execution_count": 6,
   "metadata": {},
   "outputs": [
    {
     "name": "stdout",
     "output_type": "stream",
     "text": [
      "Std(z) =  3.768338648784738\n"
     ]
    }
   ],
   "source": [
    "stdz = abs(np.std(z-(a*((x-x0)**2+(y-y0)**2)+z0)))\n",
    "print('Std(z) = ',stdz)"
   ]
  },
  {
   "cell_type": "markdown",
   "metadata": {},
   "source": [
    "With the std in z known we can relate it to 'a' as:\n",
    "$std(z) / z_0=std(a) / a$\n",
    "\n",
    "'a' in turn relates to f as: $a=1/(4f)$"
   ]
  },
  {
   "cell_type": "code",
   "execution_count": 7,
   "metadata": {},
   "outputs": [
    {
     "name": "stdout",
     "output_type": "stream",
     "text": [
      "Value of focal length(mm):  [1499.6599841252187]\n",
      "The error is well withing 1sigma of actual value(1500mm), error =  0.34001587478132933  <  3.735416622527846\n"
     ]
    }
   ],
   "source": [
    "stda = abs(stdz*a/z0)\n",
    "stdf = stda*f/a\n",
    "print('Value of focal length(mm): ',[f])\n",
    "print('The error is well withing 1sigma of actual value(1500mm), error = ',abs(f-1500),' < ',stdf)"
   ]
  },
  {
   "cell_type": "markdown",
   "metadata": {},
   "source": [
    "### Bonus"
   ]
  },
  {
   "cell_type": "markdown",
   "metadata": {},
   "source": [
    "Here is my take on the extension of current question for the case when we consider dish to me not circularly symmetric. This would require us to fit data to:\n",
    "$$z = a*x'^2 + b*y'^2$$ \n",
    "The above results give a good enough value for x0,y0,z0 but fails to find the direction of the primary axis and it cant be assumed the the provided (x,y) are along those axes. So for this case\n",
    "$$x = cos(t)*x'+sin(t)*y'$$\n",
    "$$y = cos(t)*y'-sin(t)*x'$$\n",
    "Hence we need to inverse rotate since we have x,y instead of actual ones\n",
    "$$x' = cos(t)*x-sin(t)*y$$\n",
    "$$y' = cos(t)*y+sin(t)*x$$\n",
    "This gives:\n",
    "$$z = a(cos(t)*x-sin(t)*y)^2 + b(cos(t)*y+sin(t)*x)^2$$\n",
    "$$z = (ac^2+bs^2)*x^2+(as^2+bc^2)*y^2+2*(b-a)cs*(xy)$$\n",
    "$$z = (ac^2+bs^2)*X+(as^2+bc^2)*Y+2*(b-a)cs*W$$\n",
    "where,\n",
    "$$X = x^2, Y = y^2, W = xy$$\n"
   ]
  },
  {
   "cell_type": "code",
   "execution_count": 8,
   "metadata": {},
   "outputs": [],
   "source": [
    "# First taking care of offsets using earlier results:\n",
    "x = x-x0\n",
    "y = y-y0\n",
    "z = z-z0\n",
    "# Redefining terms:\n",
    "X = x**2\n",
    "Y = y**2\n",
    "W = x*y\n",
    "\n",
    "A = np.transpose([X,Y,W])\n",
    "coeff2 = np.linalg.lstsq(A,z,rcond=None)[0]"
   ]
  },
  {
   "cell_type": "markdown",
   "metadata": {},
   "source": [
    "The 3 coefficient obtained are thus used to calculate the angle the current coordinate system makes with previous one, and also the get (a,b) which directly relate to the focal lenghts along the twp principal axes. (Work-up in included separately in the same folder)."
   ]
  },
  {
   "cell_type": "code",
   "execution_count": 9,
   "metadata": {},
   "outputs": [],
   "source": [
    "a1 = coeff2[0]\n",
    "a2 = coeff2[1]\n",
    "a3 = coeff2[2]"
   ]
  },
  {
   "cell_type": "markdown",
   "metadata": {},
   "source": [
    "$$\\Theta = 0.5*tan^{-1}(a_3/(a_2-a_1))$$\n",
    "$$a = 0.5(a_1+a_2-a_3/(2sin(\\Theta)cos(\\Theta)))$$\n",
    "$$a = 0.5(a_1+a_2+a_3/(2sin(\\Theta)cos(\\Theta)))$$"
   ]
  },
  {
   "cell_type": "code",
   "execution_count": 10,
   "metadata": {},
   "outputs": [
    {
     "name": "stdout",
     "output_type": "stream",
     "text": [
      "\n",
      "Angle(degrees):  35.537288720377\n",
      "New focal lengths: f_a= 1508.592256467945  f_b= 1490.3685134380532\n"
     ]
    }
   ],
   "source": [
    "theta = 0.5*np.arctan(a3/(a2-a1))\n",
    "a_new = 0.5*(a1+a2-a3/(2*np.cos(theta)*np.sin(theta)))\n",
    "b_new = 0.5*(a1+a2+a3/(2*np.cos(theta)*np.sin(theta)))\n",
    "print('\\nAngle(degrees): ',theta*180/np.pi)\n",
    "print('New focal lengths: f_a=',1/(4*a_new),' f_b=',1/(4*b_new))\n"
   ]
  },
  {
   "cell_type": "markdown",
   "metadata": {},
   "source": [
    "(all units in mm, degrees) \n",
    "***\n",
    "Thus we get the focal lengths along the 2 axes as: **(1508.59,1490.37)**"
   ]
  },
  {
   "cell_type": "markdown",
   "metadata": {},
   "source": []
  }
 ],
 "metadata": {
  "kernelspec": {
   "display_name": "Python 3",
   "language": "python",
   "name": "python3"
  },
  "language_info": {
   "codemirror_mode": {
    "name": "ipython",
    "version": 3
   },
   "file_extension": ".py",
   "mimetype": "text/x-python",
   "name": "python",
   "nbconvert_exporter": "python",
   "pygments_lexer": "ipython3",
   "version": "3.7.4"
  }
 },
 "nbformat": 4,
 "nbformat_minor": 4
}
