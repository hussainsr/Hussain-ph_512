{
 "cells": [
  {
   "cell_type": "code",
   "execution_count": 23,
   "metadata": {},
   "outputs": [],
   "source": [
    "# -*- coding: utf-8 -*-\n",
    "\"\"\"\n",
    "Created on Sat Oct 10 13:28:25 2020\n",
    "\n",
    "@author: hussa\n",
    "\"\"\"\n",
    "\n",
    "import numpy as np\n",
    "import matplotlib.pyplot as plt\n",
    "import camb\n",
    "import copy\n",
    "import matplotlib\n",
    "matplotlib.rcParams.update({'font.size': 18})\n",
    "\n",
    "def get_spectrum(pars,n,lmax=2000):\n",
    "    #print('pars are ',pars)\n",
    "    H0=pars[0]\n",
    "    ombh2=pars[1]\n",
    "    omch2=pars[2]\n",
    "    tau=pars[3]\n",
    "    As=pars[4]\n",
    "    ns=pars[5]\n",
    "    pars=camb.CAMBparams()\n",
    "    pars.set_cosmology(H0=H0,ombh2=ombh2,omch2=omch2,mnu=0.06,omk=0,tau=tau)\n",
    "    pars.InitPower.set_params(As=As,ns=ns,r=0)\n",
    "    pars.set_for_lmax(lmax,lens_potential_accuracy=0)\n",
    "    results=camb.get_results(pars)\n",
    "    powers=results.get_cmb_power_spectra(pars,CMB_unit='muK')\n",
    "    cmb=powers['total']\n",
    "    tt=cmb[:,0]    \n",
    "    return tt[2:n+2]\t# Getting rid of first to zero elements and resizing to data size\n",
    "\n",
    "def newton(f,pars,delete_par,y,Ninv,dm,lmd):\n",
    "\t#print('Initial par: ',pars)\n",
    "\ty_pred,derivs=f(pars,len(y),dm)\n",
    "\tderivs = np.delete(derivs, delete_par, axis=1)\n",
    "\tresid=y-y_pred #data minus current model\n",
    "\trhs=derivs.T@(Ninv@resid)\n",
    "\tlhs=(derivs.T@Ninv@derivs)\n",
    "\tstep=np.linalg.inv(lhs*(np.eye(len(derivs[0]))*(1.0+lmd)))@rhs\n",
    "\tfor i in delete_par:\n",
    "\t\tstep = np.insert(step, i, 0.0)\n",
    "\tm=pars+step\n",
    "\t#print('Step ',step)\n",
    "\t#print('New Params: ',m)\n",
    "\treturn m,step,lhs\n",
    "\n",
    "\n",
    "def LM(pars_cur,y_data,error_data,delete_index,f,lmd):\n",
    "\n",
    "\tn = len(y_data)\n",
    "\tN = np.zeros((n,n))\n",
    "\tnp.fill_diagonal(N,error_data)\n",
    "\tNinv=np.linalg.inv(N)\n",
    "\ty_cur = get_spectrum(pars_cur,n)\n",
    "\tchi_sq_curr = chi_sq(y_data,y_cur,error_data)\n",
    "\tdm = pars_cur/1000.0\n",
    "\tchi_sq_step = []\n",
    "\t\n",
    "\tfor iter in range(1000):\n",
    "\t\t#print('\\n(Iteration, lambda)= ',[iter,lmd])\n",
    "\t\tpars_new,step,lhs = newton(f,pars_cur,delete_index,y_data,Ninv,dm,lmd)\n",
    "\t\ty_pred = get_spectrum(pars_new,n)\n",
    "\t\tchi_sq_new = chi_sq(y_data,y_pred,error_data)\n",
    "\t\tif chi_sq_new < chi_sq_curr:\n",
    "\t\t\tchi_sq_step.append(chi_sq_new)\n",
    "\t\t\tpars_cur = pars_new\n",
    "\t\t\tlhs_cur = lhs\n",
    "\t\t\ty_cur = get_spectrum(pars_cur,n)\n",
    "\t\t\tchi_sq_curr = chi_sq_new\n",
    "\t\t\tlmd = lmd**0.5\n",
    "\t\t\tif lmd < 1.1:\n",
    "\t\t\t\tlmd = 0.0\n",
    "\t\telse:\n",
    "\t\t\tprint('Chi_sq- new:',chi_sq_new,' curr:',chi_sq_curr)\n",
    "\t\t\tif lmd == 0:\t\n",
    "\t\t\t\tlmd += 2.0\n",
    "\t\t\telse:\n",
    "\t\t\t\tlmd = lmd*2\t\n",
    "\t\tif True:\n",
    "\t\t\tprint('\\n\\nFinal parameter values: \\n',pars_cur)\n",
    "\t\t\tbreak\n",
    "\treturn pars_cur, lhs_cur, chi_sq_step\t\n",
    "\n",
    "def chi_sq(data,y,err):\n",
    "\t# X,data are the given data, y is obtained from fit using 'pars'\n",
    "\treturn np.sum((data-y)**2/err**2)\n",
    "\n",
    "def f(params,n,dx):\n",
    "\ty=get_spectrum(params,n)\n",
    "\tderivs=np.zeros([n,len(params)])\n",
    "\tfor i in range(len(params)):\t\t\n",
    "\t\tpar = copy.deepcopy(params)\n",
    "\t\tpar[i] += dx[i]\n",
    "\t\ty2=get_spectrum(par,n)\n",
    "\t\tpar[i] -= 2*dx[i]\n",
    "\t\ty1=get_spectrum(par,n)\n",
    "\t\tderivs[:,i]=(y2-y1)/(2*dx[i])\n",
    "\treturn y,derivs"
   ]
  },
  {
   "cell_type": "markdown",
   "metadata": {},
   "source": [
    "***\n",
    "Following function **run_mcmc2** features a modified mcmc routine that accepts a prior. (Note: Currently its hard coded to a specific prior)\n"
   ]
  },
  {
   "cell_type": "code",
   "execution_count": 24,
   "metadata": {},
   "outputs": [],
   "source": [
    "def run_mcmc2(pars,data,corr_mat,prior,chifun,file,nstep=5000):\n",
    "\t# Modified mcmc function to add prior for tau\n",
    "\tprior_chi =  ((pars[3]-prior[0])/prior[1])**2 # Prior chi-square\n",
    "\tfile = open(file,'w')\n",
    "\tnpar=len(pars)\n",
    "\tchain=np.zeros([nstep,npar])\n",
    "\tchivec=np.zeros(nstep)\n",
    "\ty_pred = get_spectrum(pars,len(data[0]))\n",
    "\tchi_cur=chifun(data[1],y_pred,data[2])+prior_chi # The prior is added to the result of chifun\n",
    "\tL = 0.7*np.linalg.cholesky(corr_mat)\t#Scaled matrix to suppress step size and improve acceptance\n",
    "\tfor i in range(nstep):\n",
    "\t\tdpar = L@np.random.randn(npar)\n",
    "\t\tpars_trial=pars+dpar\n",
    "\t\tprint('\\nStep ',i,'  Trial parameter: \\n',pars_trial)\n",
    "\t\tif pars_trial[3]<0.0:\n",
    "\t\t\tcontinue\n",
    "\t\ty_new = get_spectrum(pars_trial,len(data[0]))\t\t\n",
    "\t\tprior_chi =  ((pars_trial[3]-prior[0])/prior[1])**2\t\t\n",
    "\t\tchi_trial=chifun(data[1],y_new,data[2])+prior_chi  # Trail chi-sq with prior included\n",
    "\t\t#we now have chi^2 at our current location\n",
    "\t\t#and chi^2 in our trial location. decide if we take the step\n",
    "\t\taccept_prob=np.exp(-0.5*(chi_trial-chi_cur))\n",
    "\t\tif np.random.rand(1)<accept_prob: #accept the step with appropriate probability\n",
    "\t\t\tpars=pars_trial\n",
    "\t\t\tchi_cur=chi_trial\n",
    "\t\tchain[i]=pars\n",
    "\t\tchivec[i]=chi_cur\n",
    "\t\tfile.write(str(chivec[i])+' '+str(chain[i,0])+' '+str(chain[i,1])+' '+\n",
    "\t\t\t str(chain[i,2])+' '+str(chain[i,3])+' '+str(chain[i,4])+' '+str(chain[i,5])+' '+'\\n')\n",
    "\tfile.close()\n",
    "\treturn chain,chivec\n"
   ]
  },
  {
   "cell_type": "markdown",
   "metadata": {},
   "source": [
    "Following is similar to previous section except with a prior passed for **tau** ($\\mu$=0.0544,$\\sigma$=0.0073)"
   ]
  },
  {
   "cell_type": "code",
   "execution_count": 26,
   "metadata": {},
   "outputs": [],
   "source": [
    "pars_ini=np.asarray([65.,0.02,0.1,0.05,2e-9,0.96])\n",
    "wmap=np.loadtxt('WMAP_data.txt')\n",
    "error_data = wmap[:,2]\n",
    "y_data = wmap[:,1]\n",
    "\n",
    "# Prep of initial conditions for parameters and other variables for Newton/LM Minimizer\n",
    "pars_cur = np.asarray([7.10138295e+01,2.22880134e-02,1.07300856e-01,5.06943875e-02,1.99554631e-09,9.73364402e-01])\n",
    "delete_index = []\n",
    "lmd = 10.0**15\n",
    "pars_cur, lhs, chi = LM(pars_cur,y_data,error_data,delete_index,f,lmd)\n",
    "\n",
    "# Using newton results to seed mcmc\n",
    "data=wmap.T\n",
    "prior = [0.0544,0.0073]"
   ]
  },
  {
   "cell_type": "code",
   "execution_count": null,
   "metadata": {},
   "outputs": [],
   "source": [
    "file = 'chain_prior_final1.txt'\n",
    "chain,chivec=run_mcmc2(pars_cur,data,np.linalg.inv(lhs),prior,chi_sq,file,nstep=5000)"
   ]
  },
  {
   "cell_type": "markdown",
   "metadata": {},
   "source": [
    "The results from this short chain is then used back to seed the longer chain"
   ]
  },
  {
   "cell_type": "code",
   "execution_count": null,
   "metadata": {},
   "outputs": [],
   "source": [
    "chain  = []\n",
    "chivec = []\n",
    "file = open('chain_prior_final1.txt','r')\n",
    "for t in file:\n",
    "\tt = np.asarray(t.strip().split(),dtype='float')\n",
    "\tchivec.append(t[0])\n",
    "\tchain.append(t[1:])\n",
    "file.close()\t\n",
    "chain = np.asarray(chain)\t\n",
    "chivec = np.asarray(chivec)\n",
    "\n",
    "file = 'chain_prior_final2.txt'\n",
    "pars_guess=np.median(chain,axis=0)\n",
    "for i in range(chain.shape[1]):\n",
    "    chain[:,i]=chain[:,i]-pars_guess[i]\n",
    "mycov=chain.T@chain/chain.shape[0]\n",
    "chain2,chivec2=run_mcmc2(pars_guess,data,mycov,prior,chi_sq,file,nstep=20000)"
   ]
  },
  {
   "cell_type": "markdown",
   "metadata": {},
   "source": [
    "***\n",
    "#### Results from chain with prior"
   ]
  },
  {
   "cell_type": "code",
   "execution_count": 28,
   "metadata": {},
   "outputs": [
    {
     "name": "stdout",
     "output_type": "stream",
     "text": [
      "Current parameter values:\n",
      "Parameter0 :  69.40595600823397 +/- 2.367537730996221\n",
      "Parameter1 :  0.022494827911342236 +/- 0.0005444204673814163\n",
      "Parameter2 :  0.11363623259940756 +/- 0.005056988853134927\n",
      "Parameter3 :  0.05446417196173646 +/- 0.007424690904062373\n",
      "Parameter4 :  2.0599184120391832e-09 +/- 4.729739230073181e-11\n",
      "Parameter5 :  0.9704620539545195 +/- 0.013483429582272766\n"
     ]
    }
   ],
   "source": [
    "chain2  = []\n",
    "chivec2 = []\n",
    "file = open('chain_prior_final2.txt','r')\n",
    "for t in file:\n",
    "\tt = np.asarray(t.strip().split(),dtype='float')\n",
    "\tchivec2.append(t[0])\n",
    "\tchain2.append(t[1:])\n",
    "file.close()\t\n",
    "chain2 = np.asarray(chain2)\t\n",
    "chivec2 = np.asarray(chivec2)\n",
    "\n",
    "pars_cur=np.median(chain2,axis=0)\n",
    "delt = (chain2).copy()\n",
    "for i in range(delt.shape[1]):\n",
    "    delt[:,i]=delt[:,i]-pars_cur[i]\n",
    "mycov=delt.T@delt/delt.shape[0]\n",
    "par_errs=np.abs(np.sqrt(np.diag(mycov)))\n",
    "print('Current parameter values:')\n",
    "for i in range(6):\n",
    "    print('Parameter'+str(i)+' : ',pars_cur[i],'+/-',par_errs[i])"
   ]
  },
  {
   "cell_type": "markdown",
   "metadata": {},
   "source": [
    "***\n",
    "Above output shows Results for our chain, and because of the prior the was added the error on each of the parameter has gone down significantly by about a d=factor of 10. This makes sense because we indirectly narrwoed down the parameter space by including the prior thus giving us tighter bound on the values for the parameters\n",
    ". "
   ]
  },
  {
   "cell_type": "code",
   "execution_count": 29,
   "metadata": {},
   "outputs": [
    {
     "data": {
      "image/png": "[encoded data removed]",
      "text/plain": [
       "<Figure size 720x360 with 1 Axes>"
      ]
     },
     "metadata": {
      "needs_background": "light"
     },
     "output_type": "display_data"
    },
    {
     "name": "stdout",
     "output_type": "stream",
     "text": [
      "number of Independant samples =  100.0\n",
      "Error in the means:  0.1 *sigma\n"
     ]
    }
   ],
   "source": [
    "# CHeck for convergence\n",
    "freq = np.fft.fft(chain2[:,2])\n",
    "\n",
    "plt.figure(figsize=(10,5))      \n",
    "plt.title('Power spectrum of chain')\n",
    "plt.xlabel('Freq.')\n",
    "plt.grid(alpha=0.75)\n",
    "plt.ylabel('Amplitude')\n",
    "plt.xscale('log')\n",
    "plt.yscale('log')\n",
    "plt.plot([i/20000.0 for i in range(1,len(freq))],abs(freq[1:]))\n",
    "plt.show()\n",
    "\n",
    "#Knee appears somewhere near 2x10^-3 which means we have 1 independant sample every 500 points, which is ~200 independant sample.\n",
    "knee = 5*10**(-3)\n",
    "freq_indep_samples = 1/knee\n",
    "no_indep_samples = 20000/freq_indep_samples\n",
    "print('number of Independant samples = ', no_indep_samples)\n",
    "print('Error in the means: ',1/(no_indep_samples)**0.5,'*sigma')"
   ]
  },
  {
   "cell_type": "markdown",
   "metadata": {},
   "source": [
    "***\n",
    "Along with convergence, this chain has better estimate of the parameter means, especially the parameters that show good correlation with **tau**.\n",
    "***"
   ]
  },
  {
   "cell_type": "markdown",
   "metadata": {},
   "source": [
    "#### Importance sampling"
   ]
  },
  {
   "cell_type": "markdown",
   "metadata": {},
   "source": [
    "Alternate approach to obtain markov chains with different likelihood is to weigh the existing chain with relative likelihood. Chain thus obtained is a good approximation to the actual chain."
   ]
  },
  {
   "cell_type": "code",
   "execution_count": 33,
   "metadata": {},
   "outputs": [
    {
     "name": "stdout",
     "output_type": "stream",
     "text": [
      "Current parameter values and errors (from importance sampling):\n",
      "Parameter0 :  69.46755662029254 \t+/- 2.4813417241426317\n",
      "Parameter1 :  0.022489943231446156 \t+/- 0.000528054884126699\n",
      "Parameter2 :  0.11373815062895223 \t+/- 0.0053299483953020005\n",
      "Parameter3 :  0.05497340148754539 \t+/- 0.007365228887122151\n",
      "Parameter4 :  2.0610426798000226e-09 \t+/- 4.9398633770660484e-11\n",
      "Parameter5 :  0.9701029858995933 \t+/- 0.013469458331097807\n",
      "\n",
      "Current parameter values and errors (from full chain):\n",
      "Parameter0 :  69.40595600823397 \t+/- 2.367537730996221\n",
      "Parameter1 :  0.022494827911342236 \t+/- 0.0005444204673814163\n",
      "Parameter2 :  0.11363623259940756 \t+/- 0.005056988853134927\n",
      "Parameter3 :  0.05446417196173646 \t+/- 0.007424690904062373\n",
      "Parameter4 :  2.0599184120391832e-09 \t+/- 4.729739230073181e-11\n",
      "Parameter5 :  0.9704620539545195 \t+/- 0.013483429582272766\n"
     ]
    }
   ],
   "source": [
    "#-- IMportance sampling -------------------------------------\n",
    "chain_temp  = []\n",
    "chivec_temp = []\n",
    "# Reading data of question 4\n",
    "file = open('chain_data_final.txt','r')\n",
    "for t in file:\n",
    "\tt = np.asarray(t.strip().split(),dtype='float')\n",
    "\tchivec_temp.append(t[0])\n",
    "\tchain_temp.append(t[1:])\n",
    "file.close()\t\n",
    "chain_temp = np.asarray(chain_temp)\t\n",
    "chivec_temp = np.asarray(chivec_temp)\n",
    "\n",
    "# Initiating variables \n",
    "chain_imp_scat = chain_temp.copy()\n",
    "chain_imp_means=np.zeros(chain_temp.shape[1])\n",
    "chain_imp_errs=np.zeros(chain_temp.shape[1])\n",
    "# Calculating weights associated to the prior defined earlier\n",
    "wtvec = np.exp(-0.5*((chain_temp[:,3]-prior[0])/prior[1])**2) #Weight vector calculated from the the relative likelihood  \n",
    "\n",
    "for i in range(chain_temp.shape[1]):\n",
    "\tchain_imp_means[i]=np.sum(wtvec*chain_temp[:,i])/np.sum(wtvec)\t\t\t\t\t# Means from importance sampled data\n",
    "\tchain_imp_scat[:,i]=chain_imp_scat[:,i]-chain_imp_means[i]\t\t\t\t\t\t# Subtracting out the means\n",
    "\tchain_imp_errs[i]=np.sqrt(np.sum(chain_imp_scat[:,i]**2*wtvec)/np.sum(wtvec))\t# Calculating standard deviation\n",
    "\n",
    "pars_imp_cur=chain_imp_means\n",
    "par_imp_errs=chain_imp_errs\n",
    "print('Current parameter values and errors (from importance sampling):')\n",
    "for i in range(6):\n",
    "    print('Parameter'+str(i)+' : ',pars_imp_cur[i],'\\t+/-',par_imp_errs[i])\n",
    "print('\\nCurrent parameter values and errors (from full chain):')\n",
    "for i in range(6):\n",
    "    print('Parameter'+str(i)+' : ',pars_cur[i],'\\t+/-',par_errs[i])    \n"
   ]
  },
  {
   "cell_type": "markdown",
   "metadata": {},
   "source": [
    "***\n",
    "The results from the importance sampling compare very well with those obtained from the full chain, being almost equal to the full chain results. "
   ]
  },
  {
   "cell_type": "code",
   "execution_count": null,
   "metadata": {},
   "outputs": [],
   "source": []
  }
 ],
 "metadata": {
  "kernelspec": {
   "display_name": "Python 3",
   "language": "python",
   "name": "python3"
  },
  "language_info": {
   "codemirror_mode": {
    "name": "ipython",
    "version": 3
   },
   "file_extension": ".py",
   "mimetype": "text/x-python",
   "name": "python",
   "nbconvert_exporter": "python",
   "pygments_lexer": "ipython3",
   "version": "3.7.4"
  }
 },
 "nbformat": 4,
 "nbformat_minor": 4
}
