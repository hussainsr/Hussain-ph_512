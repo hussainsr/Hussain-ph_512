{
 "cells": [
  {
   "cell_type": "markdown",
   "metadata": {},
   "source": [
    "Code from previous section"
   ]
  },
  {
   "cell_type": "code",
   "execution_count": 1,
   "metadata": {},
   "outputs": [],
   "source": [
    "import numpy as np\n",
    "import matplotlib.pyplot as plt\n",
    "import camb\n",
    "import copy\n",
    "import matplotlib\n",
    "matplotlib.rcParams.update({'font.size': 18})\n",
    "\n",
    "def get_spectrum(pars,n,lmax=2000):\n",
    "    #print('pars are ',pars)\n",
    "    H0=pars[0]\n",
    "    ombh2=pars[1]\n",
    "    omch2=pars[2]\n",
    "    tau=pars[3]\n",
    "    As=pars[4]\n",
    "    ns=pars[5]\n",
    "    pars=camb.CAMBparams()\n",
    "    pars.set_cosmology(H0=H0,ombh2=ombh2,omch2=omch2,mnu=0.06,omk=0,tau=tau)\n",
    "    pars.InitPower.set_params(As=As,ns=ns,r=0)\n",
    "    pars.set_for_lmax(lmax,lens_potential_accuracy=0)\n",
    "    results=camb.get_results(pars)\n",
    "    powers=results.get_cmb_power_spectra(pars,CMB_unit='muK')\n",
    "    cmb=powers['total']\n",
    "    tt=cmb[:,0]    \n",
    "    return tt[2:n+2]\t# Getting rid of first to zero elements and resizing to data size\n",
    "\n",
    "def chi_sq(data,y,err):\n",
    "\t# X,data are the given data, y is obtained from fit using 'pars'\n",
    "\treturn np.sum((data-y)**2/err**2)\n",
    "\n",
    "def f(params,n,dx):\n",
    "\ty=get_spectrum(params,n)\n",
    "\tderivs=np.zeros([n,len(params)])\n",
    "\tfor i in range(len(params)):\t\t\n",
    "\t\tpar = copy.deepcopy(params)\n",
    "\t\tpar[i] += dx[i]\n",
    "\t\ty2=get_spectrum(par,n)\n",
    "\t\tpar[i] -= 2*dx[i]\n",
    "\t\ty1=get_spectrum(par,n)\n",
    "\t\tderivs[:,i]=(y2-y1)/(2*dx[i])\n",
    "\treturn y,derivs\n",
    "\n",
    "def newton(f,pars,delete_par,y,Ninv,dm,lmd):\n",
    "\tprint('Initial par: ',pars)\n",
    "\ty_pred,derivs=f(pars,len(y),dm)\n",
    "\tderivs = np.delete(derivs, delete_par, axis=1)\n",
    "\tresid=y-y_pred #data minus current model\n",
    "\trhs=derivs.T@(Ninv@resid)\n",
    "\tlhs=(derivs.T@Ninv@derivs)\n",
    "\tstep=np.linalg.inv(lhs*(np.eye(len(derivs[0]))*(1.0+lmd)))@rhs\n",
    "\tfor i in delete_par:\n",
    "\t\tstep = np.insert(step, i, 0.0)\n",
    "\tm=pars+step\n",
    "\tprint('Step ',step)\n",
    "\tprint('New Params: ',m)\n",
    "\treturn m,step,lhs\n",
    "\n",
    "\n",
    "def LM(pars_cur,y_data,error_data,delete_index,f):\n",
    "\n",
    "\tn = len(y_data)\n",
    "\tN = np.zeros((n,n))\n",
    "\tnp.fill_diagonal(N,error_data)\n",
    "\tNinv=np.linalg.inv(N)\n",
    "\ty_cur = get_spectrum(pars_cur,n)\n",
    "\tchi_sq_curr = chi_sq(y_data,y_cur,error_data)\n",
    "\tdm = pars_cur/1000.0\n",
    "\tlmd = 0.0 \n",
    "\tchi_sq_step = []\n",
    "\tlhs_cur = []\n",
    "\tfor iter in range(1000):\n",
    "\t\tprint('\\n(Iteration, lambda)= ',[iter,lmd])\n",
    "\t\tpars_new,step,lhs = newton(f,pars_cur,delete_index,y_data,Ninv,dm,lmd)\n",
    "\t\ty_pred = get_spectrum(pars_new,n)\n",
    "\t\tchi_sq_new = chi_sq(y_data,y_pred,error_data)\n",
    "\t\tif chi_sq_new < chi_sq_curr:\n",
    "\t\t\tchi_sq_step.append(chi_sq_new)\n",
    "\t\t\tpars_cur = pars_new\n",
    "\t\t\tlhs_cur = lhs\n",
    "\t\t\ty_cur = get_spectrum(pars_cur,n)\n",
    "\t\t\tchi_sq_curr = chi_sq_new\n",
    "\t\t\tlmd = lmd**0.5\n",
    "\t\t\tif lmd < 1.1:\n",
    "\t\t\t\tlmd = 0.0\n",
    "\t\telse:\n",
    "\t\t\tprint('Chi_sq- new:',chi_sq_new,' curr:',chi_sq_curr)\n",
    "\t\t\tif lmd == 0:\t\n",
    "\t\t\t\tlmd += 2.0\n",
    "\t\t\telse:\n",
    "\t\t\t\tlmd = lmd*2\t\n",
    "\t\tif True:\n",
    "\t\t\tprint('\\n\\nFinal parameter values: \\n',pars_cur)\n",
    "\t\t\tif len(lhs_cur)==0:\n",
    "\t\t\t\tlhs_cur = lhs\n",
    "\t\t\tbreak\n",
    "\treturn pars_cur, lhs_cur, chi_sq_step"
   ]
  },
  {
   "cell_type": "markdown",
   "metadata": {},
   "source": [
    "Function for runnin Markov-chain Monte carlo. In addition to its basic working it accepts covariance matrix **corr_mat** which it uses to calculate correlated step."
   ]
  },
  {
   "cell_type": "code",
   "execution_count": 3,
   "metadata": {},
   "outputs": [],
   "source": [
    "def run_mcmc(pars,data,corr_mat,chifun,file,nstep=5000):\n",
    "\tfile = open(file,'a')      #Storign chain into file\n",
    "\tnpar=len(pars)\n",
    "\tchain=np.zeros([nstep,npar])\n",
    "\tchivec=np.zeros(nstep)\n",
    "\ty_pred = get_spectrum(pars,len(data[0]))\n",
    "\tchi_cur=chifun(data[1],y_pred,data[2])\n",
    "\tL = np.linalg.cholesky(corr_mat)*0.7\t#Performing cholesky on covariance matrix to generate correlated steps. Factor of 0.7 is for scaling down the step size for required acceptance (~25-30%)\n",
    "\tfor i in range(nstep):\n",
    "\t\tpars_trial=pars+L@np.random.randn(npar) #Modifying/taking step \n",
    "\t\tprint('\\nStep ',i,'  Trial parameter: \\n',pars_trial)\n",
    "\t\tif pars_trial[3]<0.0:\t#Skipping over steps with negative optical depth\n",
    "\t\t\tcontinue\n",
    "\t\ty_new = get_spectrum(pars_trial,len(data[0]))\t\t\n",
    "\t\tchi_trial=chifun(data[1],y_new,data[2])\n",
    "\t\t#we now have chi^2 at our current location\n",
    "\t\t#and chi^2 in our trial location. decide if we take the step\n",
    "\t\taccept_prob=np.exp(-0.5*(chi_trial-chi_cur))\n",
    "\t\tif np.random.rand(1)<accept_prob: #accept the step with appropriate probability\n",
    "\t\t\tpars=pars_trial\n",
    "\t\t\tchi_cur=chi_trial\n",
    "\t\tchain[i]=pars \t\t\t# Saving step data, with or without any change from this iteration\n",
    "\t\tchivec[i]=chi_cur\n",
    "\t\tfile.write(str(chivec[i])+' '+str(chain[i,0])+' '+str(chain[i,1])+' '+\n",
    "\t\t\t str(chain[i,2])+' '+str(chain[i,3])+' '+str(chain[i,4])+' '+str(chain[i,5])+' '+'\\n')\n",
    "\tfile.close()\n",
    "\t# Returning chain data also with chi-sq at each step\n",
    "\treturn chain,chivec"
   ]
  },
  {
   "cell_type": "markdown",
   "metadata": {},
   "source": [
    "Initializing. Running 1 step of newtons method using info we get from previous question to obtain the curvature at those parameter values."
   ]
  },
  {
   "cell_type": "code",
   "execution_count": null,
   "metadata": {},
   "outputs": [],
   "source": [
    "pars_cur = np.asarray([7.10138302e+01,2.22880120e-02,1.07300854e-01,5.06943972e-02,1.99554627e-09,9.73364395e-01])\n",
    "wmap=np.loadtxt('WMAP_data.txt')\n",
    "error_data = wmap[:,2]\n",
    "y_data = wmap[:,1]\n",
    "\n",
    "delete_index = []\n",
    "pars_cur, lhs, chi = LM(pars_cur,y_data,error_data,delete_index,f)\n"
   ]
  },
  {
   "cell_type": "markdown",
   "metadata": {},
   "source": [
    "Using the parameters we obtained earlier and the inverse of **lhs** to provide covariance matrix and seeding the **mcmc** function. To start of I run a short chain which then will be used to seed the second long chain."
   ]
  },
  {
   "cell_type": "code",
   "execution_count": null,
   "metadata": {},
   "outputs": [],
   "source": [
    "# Using above results to seed mcmc\n",
    "data=wmap.T\n",
    "file = 'chain_data.txt'\n",
    "chain,chivec=run_mcmc(pars_cur,data,np.linalg.inv(lhs),chi_sq,file,nstep=5000)"
   ]
  },
  {
   "cell_type": "code",
   "execution_count": 4,
   "metadata": {},
   "outputs": [],
   "source": [
    "# Loading data back from file (helps get rid of steps where optical depth went negative) \n",
    "chain  = []\n",
    "chivec = []\n",
    "file = open('chain_data.txt','r')\n",
    "for t in file:\n",
    "\tt = np.asarray(t.strip().split(),dtype='float')\n",
    "\tchivec.append(t[0])\n",
    "\tchain.append(t[1:])\n",
    "file.close()\t\n",
    "chain = np.asarray(chain)\t\n",
    "chivec = np.asarray(chivec)"
   ]
  },
  {
   "cell_type": "markdown",
   "metadata": {},
   "source": [
    "Seeding a longer chain using above data"
   ]
  },
  {
   "cell_type": "code",
   "execution_count": null,
   "metadata": {},
   "outputs": [],
   "source": [
    "# Running a long chain\n",
    "delt = (chain).copy()\n",
    "pars_guess=np.median(delt,axis=0)\n",
    "for i in range(delt.shape[1]):\n",
    "    delt[:,i]=delt[:,i]-pars_guess[i]\n",
    "mycov=delt.T@delt/delt.shape[0]\n",
    "\n",
    "file = 'chain_data_final.txt'\n",
    "chain2,chivec2=run_mcmc(pars_guess,data,mycov,chi_sq,file,nstep=20000)"
   ]
  },
  {
   "cell_type": "code",
   "execution_count": 37,
   "metadata": {},
   "outputs": [],
   "source": [
    "#For loading the data\n",
    "chain2  = []\n",
    "chivec2 = []\n",
    "file = open('chain_data_final.txt','r')\n",
    "for t in file:\n",
    "\tt = np.asarray(t.strip().split(),dtype='float')\n",
    "\tchivec2.append(t[0])\n",
    "\tchain2.append(t[1:])\n",
    "chain2 = np.asarray(chain2)\t\n",
    "chivec2 = np.asarray(chivec2)\n",
    "file.close()"
   ]
  },
  {
   "cell_type": "markdown",
   "metadata": {},
   "source": [
    "#### Parameter values"
   ]
  },
  {
   "cell_type": "code",
   "execution_count": 38,
   "metadata": {},
   "outputs": [
    {
     "name": "stdout",
     "output_type": "stream",
     "text": [
      "Current parameter values:\n",
      "Parameter0 :  71.17880984971593 \t+/- 3.4606606726215383\n",
      "Parameter1 :  0.022944739102414256 \t+/- 0.0007292810543012528\n",
      "Parameter2 :  0.11060039276633393 \t+/- 0.0066226390315339626\n",
      "Parameter3 :  0.1047601704360573 \t+/- 0.057942820203722774\n",
      "Parameter4 :  2.2746308813106766e-09 \t+/- 2.499692518448387e-10\n",
      "Parameter5 :  0.9842049548183078 \t+/- 0.021754897645012646\n"
     ]
    }
   ],
   "source": [
    "pars_cur=np.median(chain2,axis=0)\n",
    "delt = (chain2).copy()\n",
    "for i in range(delt.shape[1]):\n",
    "    delt[:,i]=delt[:,i]-pars_cur[i]\n",
    "mycov=delt.T@delt/delt.shape[0]\n",
    "par_errs=np.abs(np.sqrt(np.diag(mycov)))\n",
    "print('Current parameter values:')\n",
    "for i in range(6):\n",
    "    print('Parameter'+str(i)+' : ',pars_cur[i],'\\t+/-',par_errs[i])"
   ]
  },
  {
   "cell_type": "markdown",
   "metadata": {},
   "source": [
    "***\n",
    "Now to check for convergence, I do that by calculating the power spectrum of the chain"
   ]
  },
  {
   "cell_type": "code",
   "execution_count": 36,
   "metadata": {},
   "outputs": [
    {
     "data": {
      "image/png": "[encoded data removed]",
      "text/plain": [
       "<Figure size 720x360 with 1 Axes>"
      ]
     },
     "metadata": {
      "needs_background": "light"
     },
     "output_type": "display_data"
    },
    {
     "name": "stdout",
     "output_type": "stream",
     "text": [
      "number of Independant samples =  40.0\n",
      "Error in the means:  0.15811388300841897 *sigma\n"
     ]
    }
   ],
   "source": [
    "freq = np.fft.fft(chain2[:,0])\n",
    "\n",
    "plt.figure(figsize=(10,5))      \n",
    "plt.title('Power spectrum of chain')\n",
    "plt.xlabel('Freq.')\n",
    "plt.grid(alpha=0.75)\n",
    "plt.ylabel('Amplitude')\n",
    "plt.xscale('log')\n",
    "plt.yscale('log')\n",
    "plt.plot([i/20000.0 for i in range(1,len(freq))],abs(freq[1:]))\n",
    "plt.show()\n",
    "\n",
    "#Knee appears somewhere near 2x10^-3 which means we have 1 independant sample every 500 points, which is ~200 independant sample.\n",
    "knee = 2*10**(-3)\n",
    "freq_indep_samples = 1/knee\n",
    "no_indep_samples = 20000/freq_indep_samples\n",
    "print('number of Independant samples = ', no_indep_samples)\n",
    "print('Error in the means: ',1/(no_indep_samples)**0.5,'*sigma')"
   ]
  },
  {
   "cell_type": "markdown",
   "metadata": {},
   "source": [
    "***\n",
    "The above plot shows that the sepctrum flattens out at lower freq indicating independant samples at large distance which tells us that the chain **converged**. But the size of the chain isnt large enough to restrain the error in the mean. The knee appears near 2x10^(-3) which corresponds roughly to 1 independant sample for every 500 points. "
   ]
  },
  {
   "cell_type": "markdown",
   "metadata": {},
   "source": [
    "But the 20k points in the chain, we get only about 40 independant samples which put out mean error somewhere near, $Error = \\sigma/7$."
   ]
  },
  {
   "cell_type": "markdown",
   "metadata": {},
   "source": [
    "(I agree this isnt very good, but depending on accuracy requirements we can always reduce error further by having more samples.) "
   ]
  },
  {
   "cell_type": "code",
   "execution_count": null,
   "metadata": {},
   "outputs": [],
   "source": []
  }
 ],
 "metadata": {
  "kernelspec": {
   "display_name": "Python 3",
   "language": "python",
   "name": "python3"
  },
  "language_info": {
   "codemirror_mode": {
    "name": "ipython",
    "version": 3
   },
   "file_extension": ".py",
   "mimetype": "text/x-python",
   "name": "python",
   "nbconvert_exporter": "python",
   "pygments_lexer": "ipython3",
   "version": "3.7.4"
  }
 },
 "nbformat": 4,
 "nbformat_minor": 4
}
